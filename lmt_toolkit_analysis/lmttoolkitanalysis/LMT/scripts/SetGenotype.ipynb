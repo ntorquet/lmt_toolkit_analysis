{
 "cells": [
  {
   "cell_type": "markdown",
   "metadata": {},
   "source": [
    "# Set Genotype\n",
    "\n",
    "This code lets you set the genotype of each animal in your databases.\n"
   ]
  },
  {
   "cell_type": "code",
   "execution_count": 2,
   "metadata": {},
   "outputs": [
    {
     "name": "stdout",
     "output_type": "stream",
     "text": [
      "---------------\n",
      "Current file:  C:/Users/Fab/Desktop/Experiment 8466.sqlite\n",
      "Loading animals.\n",
      "Fields available in lmtanalysis:  ['ID', 'RFID', 'GENOTYPE', 'NAME']\n",
      "SQL Query: SELECT ID,RFID,NAME,GENOTYPE FROM ANIMAL ORDER BY GENOTYPE\n",
      "Animal Id:1 Name:A RFID:000004724298 Genotype:wt User1:None\n",
      "Animal Id:2 Name:B RFID:000004724371 Genotype:wt User1:None\n",
      "Animal Id:3 Name:C RFID:000004724516 Genotype:wt User1:None\n",
      "Animal Id:4 Name:D RFID:000004724223 Genotype:wt User1:None\n",
      "****\n",
      "Type new genotype for RFID 000004724298 Current Genotype: wt ([Enter] to keep existing one):\n",
      "keeping genotype wt\n",
      "****\n",
      "Type new genotype for RFID 000004724371 Current Genotype: wt ([Enter] to keep existing one):\n",
      "keeping genotype wt\n",
      "****\n",
      "Type new genotype for RFID 000004724516 Current Genotype: wt ([Enter] to keep existing one):\n",
      "keeping genotype wt\n",
      "****\n",
      "Type new genotype for RFID 000004724223 Current Genotype: wt ([Enter] to keep existing one):\n",
      "keeping genotype wt\n",
      "Genotype saved in database.\n"
     ]
    }
   ],
   "source": [
    "# Set Genotype\n",
    "\n",
    "import sys\n",
    "sys.path.insert(1, \"../\")\n",
    "\n",
    "import sqlite3\n",
    "from lmtanalysis.Animal import *\n",
    "import numpy as np\n",
    "import matplotlib.pyplot as plt\n",
    "from lmtanalysis.Event import *\n",
    "from lmtanalysis.Measure import *\n",
    "import colorsys\n",
    "from collections import Counter\n",
    "import seaborn as sns\n",
    "\n",
    "from tkinter.filedialog import askopenfilename\n",
    "from lmtanalysis.Util import getMinTMaxTAndFileNameInput\n",
    "from lmtanalysis.EventTimeLineCache import EventTimeLineCached\n",
    "from lmtanalysis.FileUtil import getFilesToProcess\n",
    "\n",
    "files = getFilesToProcess()\n",
    "\n",
    "for file in files:\n",
    "    \n",
    "    print(\"---------------\")\n",
    "    print(\"Current file: \" , file )\n",
    "    \n",
    "    connection = sqlite3.connect( file )\n",
    "    \n",
    "    pool = AnimalPool( )\n",
    "    pool.loadAnimals( connection )\n",
    "    \n",
    "    for animal in pool.getAnimalList():\n",
    "        print( \"****\")\n",
    "        \n",
    "        genotype = input( \"Type new genotype for RFID \"+ str(animal.RFID)+ \" Current Genotype: \" + str(animal.genotype) + \" ([Enter] to keep existing one):\")\n",
    "        genotype = genotype.strip()\n",
    "        if len(genotype) > 0:\n",
    "            print(\"setting \", genotype , \" to \" , animal.RFID )\n",
    "            animal.setGenotype( genotype )\n",
    "        else:\n",
    "            print( \"keeping genotype\", animal.genotype )\n",
    "        \n",
    "    print(\"Genotype saved in database.\")\n",
    "        \n",
    "        \n",
    "    \n",
    "    \n"
   ]
  },
  {
   "cell_type": "code",
   "execution_count": null,
   "metadata": {
    "collapsed": true
   },
   "outputs": [],
   "source": []
  },
  {
   "cell_type": "code",
   "execution_count": null,
   "metadata": {
    "collapsed": true
   },
   "outputs": [],
   "source": []
  }
 ],
 "metadata": {
  "kernelspec": {
   "display_name": "Python 3",
   "language": "python",
   "name": "python3"
  },
  "language_info": {
   "codemirror_mode": {
    "name": "ipython",
    "version": 3
   },
   "file_extension": ".py",
   "mimetype": "text/x-python",
   "name": "python",
   "nbconvert_exporter": "python",
   "pygments_lexer": "ipython3",
   "version": "3.6.3"
  }
 },
 "nbformat": 4,
 "nbformat_minor": 2
}
