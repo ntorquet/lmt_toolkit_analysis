{
 "cells": [
  {
   "cell_type": "markdown",
   "metadata": {},
   "source": [
    "# Night input ( Manual )"
   ]
  },
  {
   "cell_type": "code",
   "execution_count": 1,
   "metadata": {},
   "outputs": [
    {
     "name": "stdout",
     "output_type": "stream",
     "text": [
      "Code launched.\n",
      "Processing file C:/Users/Fab/Desktop/Experiment 8466.sqlite\n",
      "--------------\n",
      "Current file:  C:/Users/Fab/Desktop/Experiment 8466.sqlite\n",
      "Loading existing events...\n",
      "night  Id( None , None , None , None ) Min/maxFrame: ( None / None ) Loaded ( 2  records loaded in  0.1990044116973877 S )\n",
      "--------------\n",
      "Event list:\n",
      "Event\tstart:\t2398\tend:\t2548\n",
      "Event\tstart:\t5884\tend:\t245236\n",
      "--------------\n",
      "remove existing nights [Y/N] ? :N\n",
      "Keeping existing nights.\n",
      "Manually add night event:\n",
      "Start Frame (return to stop) : \n",
      "*** ALL JOBS DONE ***\n"
     ]
    }
   ],
   "source": [
    "import sys\n",
    "sys.path.insert(1, \"../\")\n",
    "\n",
    "import sqlite3\n",
    "from lmtanalysis.Animal import *\n",
    "from lmtanalysis.Event import *\n",
    "from lmtanalysis.Measure import *\n",
    "\n",
    "from tkinter.filedialog import askopenfilename\n",
    "\n",
    "from lmtanalysis.Util import convert_to_d_h_m_s, getFrameInput\n",
    "import sys\n",
    "\n",
    "from lmtanalysis.FileUtil import getFilesToProcess\n",
    "\n",
    "class FileProcessException(Exception):\n",
    "    pass\n",
    "\n",
    "   \n",
    "def process( file ):\n",
    "    \n",
    "    connection = sqlite3.connect( file )     \n",
    "\n",
    "    print( \"--------------\")\n",
    "    print( \"Current file: \", file )\n",
    "    print( \"Loading existing events...\")\n",
    "    nightTimeLine = EventTimeLine( connection, \"night\" , None, None, None , None )        \n",
    "    \n",
    "    \n",
    "    print( \"--------------\")    \n",
    "    print( \"Event list:\" )\n",
    "    for event in nightTimeLine.eventList:\n",
    "        print( event )\n",
    "    print( \"--------------\")\n",
    "    \n",
    "    answer = input(\"remove existing nights [Y/N] ? :\")\n",
    "    if answer.lower() == \"y\":\n",
    "        print(\"Removing existing nights\")\n",
    "        nightTimeLine.eventList.clear();\n",
    "        nightTimeLine.endRebuildEventTimeLine(connection, deleteExistingEvent = True )\n",
    "    else:\n",
    "        print(\"Keeping existing nights.\")\n",
    "    \n",
    "    nightTimeLine.eventList.clear();\n",
    "    \n",
    "    while True:\n",
    "        print( \"Manually add night event:\")\n",
    "        startFrame = getFrameInput(\"Start Frame (return to stop)\")\n",
    "        if startFrame==None:\n",
    "            return\n",
    "        \n",
    "        endFrame = getFrameInput(\"End Frame (return to stop)\")\n",
    "        if endFrame==None:\n",
    "            return\n",
    "        \n",
    "        nightTimeLine.addEvent( Event( int(startFrame), int(endFrame) ) )\n",
    "        nightTimeLine.endRebuildEventTimeLine(connection, deleteExistingEvent = True )\n",
    "\n",
    "\n",
    "\n",
    "print(\"Code launched.\")\n",
    "\n",
    "files = getFilesToProcess()\n",
    "\n",
    "chronoFullBatch = Chronometer(\"Full batch\" )    \n",
    "\n",
    "if ( files != None ):\n",
    "\n",
    "    for file in files:\n",
    "        try:\n",
    "            print ( \"Processing file\" , file )\n",
    "            process( file )\n",
    "        except FileProcessException:\n",
    "            print ( \"STOP PROCESSING FILE \" + file , file=sys.stderr  )\n",
    "\n",
    "print( \"*** ALL JOBS DONE ***\")\n",
    "        "
   ]
  },
  {
   "cell_type": "code",
   "execution_count": null,
   "metadata": {
    "collapsed": true
   },
   "outputs": [],
   "source": []
  },
  {
   "cell_type": "code",
   "execution_count": null,
   "metadata": {
    "collapsed": true
   },
   "outputs": [],
   "source": []
  }
 ],
 "metadata": {
  "kernelspec": {
   "display_name": "Python 3",
   "language": "python",
   "name": "python3"
  },
  "language_info": {
   "codemirror_mode": {
    "name": "ipython",
    "version": 3
   },
   "file_extension": ".py",
   "mimetype": "text/x-python",
   "name": "python",
   "nbconvert_exporter": "python",
   "pygments_lexer": "ipython3",
   "version": "3.6.3"
  }
 },
 "nbformat": 4,
 "nbformat_minor": 2
}
